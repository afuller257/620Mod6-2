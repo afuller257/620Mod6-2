{
 "cells": [
  {
   "cell_type": "markdown",
   "metadata": {},
   "source": [
    "# Web Mining and Applied NLP (44-620)\n",
    "\n",
    "## Web Scraping and NLP with Requests, BeautifulSoup, and spaCy\n",
    "\n",
    "### Andrew Fuller\n"
   ]
  },
  {
   "cell_type": "markdown",
   "metadata": {},
   "source": [
    "Question #1"
   ]
  },
  {
   "cell_type": "code",
   "execution_count": 1,
   "metadata": {},
   "outputs": [],
   "source": [
    "import requests\n",
    "\n",
    "article_page = requests.get ('https://web.archive.org/web/20210327165005/https://hackaday.com/2021/03/22/how-laser-headlights-work/')\n",
    "article_html = article_page.text\n",
    "\n",
    "import pickle\n",
    "with open('python-match.pkl', 'wb') as f:\n",
    "    pickle.dump(article_page.text, f)"
   ]
  },
  {
   "cell_type": "markdown",
   "metadata": {},
   "source": [
    "Question #2"
   ]
  },
  {
   "cell_type": "code",
   "execution_count": 2,
   "metadata": {},
   "outputs": [
    {
     "name": "stdout",
     "output_type": "stream",
     "text": [
      "\n",
      "    \n",
      "        How Laser Headlights Work\n",
      "        \n",
      "            \n",
      "                130 Comments            \n",
      "            \n",
      "                by:\n",
      "                Lewin Day\n",
      "            \n",
      "        \n",
      "\n",
      "        \n",
      "            March 22, 2021\n",
      "            \n",
      "                \n",
      "                \n",
      "            \n",
      "        \n",
      "\n",
      "        \n",
      "    \n",
      "\n",
      "    \n",
      "        When we think about the onward march of automotive technology, headlights aren’t usually the first thing that come to mind. Engines, fuel efficiency, and the switch to electric power are all more front of mind. However, that doesn’t mean there aren’t thousands of engineers around the world working to improve the state of the art in automotive lighting day in, day out.\n",
      "Sealed beam headlights gave way to more modern designs once regulations loosened up, while bulbs moved from simple halogens to xenon HIDs and, more recently, LEDs. Now, a new technology is on the scene, with lasers!\n",
      "\n",
      "Laser Headlights?!\n",
      "BWM’s prototype laser headlight assemblies undergoing testing.\n",
      "The first image brought to mind by the phrase “laser headlights” is that of laser beams firing out the front of an automobile. Obviously, coherent beams of monochromatic light would make for poor illumination outside of a very specific spot quite some distance away. Thankfully for our eyes, laser headlights don’t work in this way at all.\n",
      "Instead, laser headlights consist of one or more solid state laser diodes mounted inside the headlight. These blue lasers are fired at a yellow phosphor, similar to that used in white LEDs. This produces a powerful, vibrant white light that can then be bounced off reflectors and out of the headlights towards the road. Laser headlights built in this way have several benefits. They’re more energy efficient than LEDs that put out the same amount of light, while also being more space efficient, too.\n",
      "BWM’s futuristic i8 was one of the first vehicles to ship with laser headlight technology.\n",
      "Laser headlights are still a nascent technology, thus far only appearing in a few BMW, Audi, and other select vehicles. BMW’s technology was developed in partnership with lighting experts OSRAM. In practice, a regular LED low-beam lamp is used, with the laser used to create an incredibly bright and focused spot, used for high-beams. This can provide illumination out to 600 meters ahead of the vehicle, double that of conventional LED high beams. The lights use indium gallium nitride diode lasers that were originally used in projectors, with power levels above 1 watt. One of the challenges in implementing such technology in an automotive environment is the need for it to operate at temperature extremes. While research lasers and laser pointers may primarily be used at typical room temperatures, automotive headlights must be able to withstand everything from 40 degrees below zero up to 50 degrees C. Thankfully, the laser’s high efficiency means it doesn’t have huge heat output of its own to further complicate things. Other engineering challenges involve tailoring the optics package for the rough-and-tumble, high vibration environment found in the automotive application. It’s also important to ensure, as with any such device, that the end user can’t be exposed to harmful laser radiation in the event of accident or malfunction.\n",
      "Tearing Down the Laser Headlight\n",
      "A marketing image showing the construction of an aftermarket LED/laser headlight. We’d take the laser power with a grain of salt — it’s difficult to imagine a 10 W laser shining directly on some small LEDs without melting a hole through the board in short order.\n",
      "An aftermarket has sprung up too, with delightfully innovative designs. Combined laser/LED headlights are readily available on Alibaba, designed as a drop in replacement for projector lamps on existing vehicles. These often use an LED low-beam, and a combined LED/laser high beam, where the laser diode shoots directly at the LED phosphor to excite it further, rather than using its own. These units often also come with fan cooling to keep the laser and LEDs below their maximum operational temperature. Such developments are exciting, though it’s important to be wary of the performance of unknown aftermarket headlights. Many aftermarket LED headlight “upgrades” fail to pass muster when it comes to real-world performance, and there’s no reason to believe hybrid LED/laser designs will be any different. We’d love to pass a selection of these parts through a full IIHS test protocol, but that’s sadly beyond the scope (and budget!) of this article.\n",
      "However, [mikeselectricstuff] has happened to lay his hands on both the BMW and aftermarket parts, tearing them all down in his workshop to see what makes them tick. The differences are multitude when laid bare on the bench. The AliExpress part is relatively simple, wired up no differently from a regular headlight. Interestingly, however, the laser high-beam circuit runs all the time in these parts. To prevent blinding other road users, a shutter is kept in place to block the light, which is moved out of the way with a solenoid when the driver turns on the high beam switch.\n",
      "Where the aftermarket part is a little out of left field, the BMW design is another thing entirely. The cutting-edge headlights are hooked up with multiple connectors and over 30 conductors, with much of the driver electronics living in an external controller. Much of this is to drive the various LEDs and stepper motors for slewing the headlights when steering. However, the laser assembly brings its own complexities. Twin light sensors are built inside to monitor the laser beam, and a special metal blocking arm sits directly in front of the diode, presumably to stop the laser light leaving the headlight in the event the phosphor coating burns through. It’s truly wild to get a look inside a modern luxury car’s headlight and see just how far we’ve come from the old days of simple sealed beams.\n",
      "Cost Versus Performance\n",
      "Despite the efficiency gains available, the technology remains expensive. Powerful laser diodes don’t come cheap, after all. However, as the technology trickles down to lower-end models, it’s likely that we could see economies of scale change that for the better. Indeed, if national authorities begin to demand higher performance headlights as standard, we could see laser headlights become the norm, rather than an expensive luxury. The technology could naturally be applied to home and commercial lighting, too — though we suspect the potential gains are limited enough that LED lighting will remain the norm for some time to come.\n",
      "The high light output of laser headlights in a compact package allows engineers greater freedom when designing the front-end of a car.\n",
      "As it currently stands, much of the appeal of the new technology is about the packaging benefits, which allow automotive designers greater freedom around the headlight area. Such concerns are less of a factor when it comes to light fittings in the home or office, or indeed, on lower-end automobiles. Regardless, it’s an exciting new application for lasers and one we’ll be sure to see more of in the future.\n",
      " \n",
      "\t            \n",
      "    \n",
      "    \t\t\t\t\t\n",
      "    \t\t\t\t\n",
      "    \t\t\t\t\t \n",
      "    \t\t\t\t\t\t\t\t\t\n",
      "    \t\t\t\n",
      "    \t\t\t\t\t\n",
      "    \t\t\t\t\n",
      "    \t\t\t\t\t\n",
      "    \t\t\t\t\t\t\t\t\t\n",
      "    \t\t\t\n",
      "    \t\t\t\t\t\n",
      "    \t\t\t\t\n",
      "    \t\t\t\t\t\n",
      "    \t\t\t\t\t\t\t\t\t\n",
      "    \t\t\t\n",
      "    \t\t\t\t\t\n",
      "                \n",
      "    \t\t\t\t\t\n",
      "    \t\t\t\t\t\t\t\t\t\n",
      "    \t\t\t\n",
      "    \t\t\t\n",
      "    \n",
      "        Posted in car hacks, Engineering, Featured, Laser Hacks, SliderTagged laser, laser headlight, laser headlights, light    \n",
      "\n"
     ]
    }
   ],
   "source": [
    "from bs4 import BeautifulSoup\n",
    "\n",
    "with open('python-match.pkl', 'rb') as f:\n",
    "    article_html = pickle.load(f)\n",
    "    \n",
    "soup = BeautifulSoup(article_html, 'html5lib')\n",
    "\n",
    "article_content = soup.find('article')\n",
    "\n",
    "print(article_content.get_text())\n"
   ]
  },
  {
   "cell_type": "markdown",
   "metadata": {},
   "source": [
    "Question #3"
   ]
  },
  {
   "cell_type": "code",
   "execution_count": 3,
   "metadata": {},
   "outputs": [
    {
     "name": "stdout",
     "output_type": "stream",
     "text": [
      "[('laser', 29), ('headlights', 17), ('technology', 10), ('headlight', 10), ('LED', 10)]\n"
     ]
    }
   ],
   "source": [
    "import spacy\n",
    "from spacytextblob.spacytextblob import SpacyTextBlob\n",
    "\n",
    "nlp = spacy.load('en_core_web_sm')\n",
    "\n",
    "nlp.add_pipe('spacytextblob')\n",
    "doc = nlp(article_content.get_text())\n",
    "\n",
    "\n",
    "def we_care_about(token):\n",
    "    return not (token.is_space or token.is_punct or token.is_stop)\n",
    "\n",
    "interesting_tokens = [token for token in doc if we_care_about(token)]\n",
    "\n",
    "from collections import Counter\n",
    "word_freq = Counter(map(str,interesting_tokens))\n",
    "print(word_freq.most_common(5))"
   ]
  },
  {
   "cell_type": "markdown",
   "metadata": {},
   "source": [
    "Question #4"
   ]
  },
  {
   "cell_type": "code",
   "execution_count": 4,
   "metadata": {
    "scrolled": true
   },
   "outputs": [
    {
     "name": "stdout",
     "output_type": "stream",
     "text": [
      "[('laser', 35), ('headlight', 27), ('beam', 12), ('light', 11), ('technology', 10)]\n"
     ]
    }
   ],
   "source": [
    "interesting_lemmas = [token.lemma_ for token in doc if we_care_about(token)]\n",
    "lemma_freq = Counter(interesting_lemmas)\n",
    "print(lemma_freq.most_common(5))"
   ]
  },
  {
   "cell_type": "markdown",
   "metadata": {},
   "source": [
    "Question #5a"
   ]
  },
  {
   "cell_type": "code",
   "execution_count": 5,
   "metadata": {},
   "outputs": [
    {
     "name": "stdout",
     "output_type": "stream",
     "text": [
      "18 :       How Laser Headlights Work                  130 Comments                    by:        Lewin Day                    March 22, 2021                                            When we think about the onward march of automotive technology, headlights aren’t usually the first thing that come to mind.\n",
      "7 : Engines, fuel efficiency, and the switch to electric power are all more front of mind.\n",
      "12 : However, that doesn’t mean there aren’t thousands of engineers around the world working to improve the state of the art in automotive lighting day in, day out.\n",
      "17 : Sealed beam headlights gave way to more modern designs once regulations loosened up, while bulbs moved from simple halogens to xenon HIDs and, more recently, LEDs.\n",
      "4 : Now, a new technology is on the scene, with lasers!\n",
      "1 : Laser Headlights?!\n",
      "6 : BWM’s prototype laser headlight assemblies undergoing testing.\n",
      "10 : The first image brought to mind by the phrase “laser headlights” is that of laser beams firing out the front of an automobile.\n",
      "13 : Obviously, coherent beams of monochromatic light would make for poor illumination outside of a very specific spot quite some distance away.\n",
      "17 : Thankfully for our eyes, laser headlights don’t work in this way at all.Instead, laser headlights consist of one or more solid state laser diodes mounted inside the headlight.\n",
      "9 : These blue lasers are fired at a yellow phosphor, similar to that used in white LEDs.\n",
      "9 : This produces a powerful, vibrant white light that can then be bounced off reflectors and out of the headlights towards the road.\n",
      "5 : Laser headlights built in this way have several benefits.\n",
      "6 : They’re more energy efficient than LEDs that put out the same amount of light, while also being more space efficient, too.\n",
      "7 : BWM’s futuristic i8 was one of the first vehicles to ship with laser headlight technology.\n",
      "8 : Laser headlights are still a nascent technology, thus far only appearing in a few BMW, Audi, and other select vehicles.\n",
      "6 : BMW’s technology was developed in partnership with lighting experts OSRAM.\n",
      "17 : In practice, a regular LED low-beam lamp is used, with the laser used to create an incredibly bright and focused spot, used for high-beams.\n",
      "11 : This can provide illumination out to 600 meters ahead of the vehicle, double that of conventional LED high beams.\n",
      "14 : The lights use indium gallium nitride diode lasers that were originally used in projectors, with power levels above 1 watt.\n",
      "9 : One of the challenges in implementing such technology in an automotive environment is the need for it to operate at temperature extremes.\n",
      "29 : While research lasers and laser pointers may primarily be used at typical room temperatures, automotive headlights must be able to withstand everything from 40 degrees below zero up to 50 degrees C. Thankfully, the laser’s high efficiency means it doesn’t have huge heat output of its own to further complicate things.\n",
      "14 : Other engineering challenges involve tailoring the optics package for the rough-and-tumble, high vibration environment found in the automotive application.\n",
      "12 : It’s also important to ensure, as with any such device, that the end user can’t be exposed to harmful laser radiation in the event of accident or malfunction.\n",
      "11 : Tearing Down the Laser HeadlightA marketing image showing the construction of an aftermarket LED/laser headlight.\n",
      "18 : We’d take the laser power with a grain of salt — it’s difficult to imagine a 10 W laser shining directly on some small LEDs without melting a hole through the board in short order.\n",
      "5 : An aftermarket has sprung up too, with delightfully innovative designs.\n",
      "13 : Combined laser/LED headlights are readily available on Alibaba, designed as a drop in replacement for projector lamps on existing vehicles.\n",
      "18 : These often use an LED low-beam, and a combined LED/laser high beam, where the laser diode shoots directly at the LED phosphor to excite it further, rather than using its own.\n",
      "10 : These units often also come with fan cooling to keep the laser and LEDs below their maximum operational temperature.\n",
      "8 : Such developments are exciting, though it’s important to be wary of the performance of unknown aftermarket headlights.\n",
      "18 : Many aftermarket LED headlight “upgrades” fail to pass muster when it comes to real-world performance, and there’s no reason to believe hybrid LED/laser designs will be any different.\n",
      "10 : We’d love to pass a selection of these parts through a full IIHS test protocol, but that’s sadly beyond the scope (and budget!) of this article.\n",
      "10 : However, [mikeselectricstuff] has happened to lay his hands on both the BMW and aftermarket parts, tearing them all down in his workshop to see what makes them tick.\n",
      "5 : The differences are multitude when laid bare on the bench.\n",
      "7 : The AliExpress part is relatively simple, wired up no differently from a regular headlight.\n",
      "8 : Interestingly, however, the laser high-beam circuit runs all the time in these parts.\n",
      "17 : To prevent blinding other road users, a shutter is kept in place to block the light, which is moved out of the way with a solenoid when the driver turns on the high beam switch.\n",
      "8 : Where the aftermarket part is a little out of left field, the BMW design is another thing entirely.\n",
      "13 : The cutting-edge headlights are hooked up with multiple connectors and over 30 conductors, with much of the driver electronics living in an external controller.\n",
      "7 : Much of this is to drive the various LEDs and stepper motors for slewing the headlights when steering.\n",
      "4 : However, the laser assembly brings its own complexities.\n",
      "25 : Twin light sensors are built inside to monitor the laser beam, and a special metal blocking arm sits directly in front of the diode, presumably to stop the laser light leaving the headlight in the event the phosphor coating burns through.\n",
      "8 : It’s truly wild to get a look inside a modern luxury car’s headlight\n",
      "7 : and see just how far we’ve come from the old days of simple sealed beams.\n",
      "8 : Cost Versus PerformanceDespite the efficiency gains available, the technology remains expensive.\n",
      "5 : Powerful laser diodes don’t come cheap, after all.\n",
      "10 : However, as the technology trickles down to lower-end models, it’s likely that we could see economies of scale change that for the better.\n",
      "13 : Indeed, if national authorities begin to demand higher performance headlights as standard, we could see laser headlights become the norm, rather than an expensive luxury.\n",
      "16 : The technology could naturally be applied to home and commercial lighting, too — though we suspect the potential gains are limited enough that LED lighting will remain the norm for some time to come.\n",
      "14 : The high light output of laser headlights in a compact package allows engineers greater freedom when designing the front-end of a car.\n",
      "14 : As it currently stands, much of the appeal of the new technology is about the packaging benefits, which allow automotive designers greater freedom around the headlight area.\n",
      "10 : Such concerns are less of a factor when it comes to light fittings in the home or office, or indeed, on lower-end automobiles.\n",
      "7 : Regardless, it’s an exciting new application for lasers and one we’ll be sure to see more of in the future.\n",
      "12 :  \t          \t\t\t\t\t  \t\t\t\t  \t\t\t\t\t   \t\t\t\t\t\t\t\t\t  \t\t\t  \t\t\t\t\t  \t\t\t\t  \t\t\t\t\t  \t\t\t\t\t\t\t\t\t  \t\t\t  \t\t\t\t\t  \t\t\t\t  \t\t\t\t\t  \t\t\t\t\t\t\t\t\t  \t\t\t  \t\t\t\t\t          \t\t\t\t\t  \t\t\t\t\t\t\t\t\t  \t\t\t  \t\t\t      Posted in car hacks, Engineering, Featured, Laser Hacks, SliderTagged laser, laser headlight, laser headlights, light  \n"
     ]
    }
   ],
   "source": [
    "interesting_tokens = set()\n",
    "for lemma, freq in lemma_freq.most_common(5):\n",
    "    interesting_tokens.add(lemma)\n",
    "\n",
    "sentences = list(doc.sents)\n",
    "for sentence in sentences:\n",
    "    count = 0\n",
    "    for token in sentence:\n",
    "        if token.lemma_.lower() in interesting_lemmas:\n",
    "            count += 1\n",
    "    sent_str = str(sentence).replace('\\n','').replace('  ',' ')\n",
    "    print(count,':', sent_str)"
   ]
  },
  {
   "cell_type": "markdown",
   "metadata": {},
   "source": [
    "Question #5b"
   ]
  },
  {
   "cell_type": "code",
   "execution_count": 6,
   "metadata": {},
   "outputs": [
    {
     "name": "stdout",
     "output_type": "stream",
     "text": [
      "3 :       How Laser Headlights Work                  130 Comments                    by:        Lewin Day                    March 22, 2021                                            When we think about the onward march of automotive technology, headlights aren’t usually the first thing that come to mind.\n",
      "0 : Engines, fuel efficiency, and the switch to electric power are all more front of mind.\n",
      "0 : However, that doesn’t mean there aren’t thousands of engineers around the world working to improve the state of the art in automotive lighting day in, day out.\n",
      "2 : Sealed beam headlights gave way to more modern designs once regulations loosened up, while bulbs moved from simple halogens to xenon HIDs and, more recently, LEDs.\n",
      "2 : Now, a new technology is on the scene, with lasers!\n",
      "1 : Laser Headlights?!\n",
      "2 : BWM’s prototype laser headlight assemblies undergoing testing.\n",
      "4 : The first image brought to mind by the phrase “laser headlights” is that of laser beams firing out the front of an automobile.\n",
      "2 : Obviously, coherent beams of monochromatic light would make for poor illumination outside of a very specific spot quite some distance away.\n",
      "6 : Thankfully for our eyes, laser headlights don’t work in this way at all.Instead, laser headlights consist of one or more solid state laser diodes mounted inside the headlight.\n",
      "1 : These blue lasers are fired at a yellow phosphor, similar to that used in white LEDs.\n",
      "2 : This produces a powerful, vibrant white light that can then be bounced off reflectors and out of the headlights towards the road.\n",
      "2 : Laser headlights built in this way have several benefits.\n",
      "1 : They’re more energy efficient than LEDs that put out the same amount of light, while also being more space efficient, too.\n",
      "3 : BWM’s futuristic i8 was one of the first vehicles to ship with laser headlight technology.\n",
      "3 : Laser headlights are still a nascent technology, thus far only appearing in a few BMW, Audi, and other select vehicles.\n",
      "2 : BMW’s technology was developed in partnership with lighting experts OSRAM.\n",
      "3 : In practice, a regular LED low-beam lamp is used, with the laser used to create an incredibly bright and focused spot, used for high-beams.\n",
      "1 : This can provide illumination out to 600 meters ahead of the vehicle, double that of conventional LED high beams.\n",
      "2 : The lights use indium gallium nitride diode lasers that were originally used in projectors, with power levels above 1 watt.\n",
      "1 : One of the challenges in implementing such technology in an automotive environment is the need for it to operate at temperature extremes.\n",
      "4 : While research lasers and laser pointers may primarily be used at typical room temperatures, automotive headlights must be able to withstand everything from 40 degrees below zero up to 50 degrees C. Thankfully, the laser’s high efficiency means it doesn’t have huge heat output of its own to further complicate things.\n",
      "0 : Other engineering challenges involve tailoring the optics package for the rough-and-tumble, high vibration environment found in the automotive application.\n",
      "1 : It’s also important to ensure, as with any such device, that the end user can’t be exposed to harmful laser radiation in the event of accident or malfunction.\n",
      "4 : Tearing Down the Laser HeadlightA marketing image showing the construction of an aftermarket LED/laser headlight.\n",
      "2 : We’d take the laser power with a grain of salt — it’s difficult to imagine a 10 W laser shining directly on some small LEDs without melting a hole through the board in short order.\n",
      "0 : An aftermarket has sprung up too, with delightfully innovative designs.\n",
      "2 : Combined laser/LED headlights are readily available on Alibaba, designed as a drop in replacement for projector lamps on existing vehicles.\n",
      "4 : These often use an LED low-beam, and a combined LED/laser high beam, where the laser diode shoots directly at the LED phosphor to excite it further, rather than using its own.\n",
      "1 : These units often also come with fan cooling to keep the laser and LEDs below their maximum operational temperature.\n",
      "1 : Such developments are exciting, though it’s important to be wary of the performance of unknown aftermarket headlights.\n",
      "2 : Many aftermarket LED headlight “upgrades” fail to pass muster when it comes to real-world performance, and there’s no reason to believe hybrid LED/laser designs will be any different.\n",
      "0 : We’d love to pass a selection of these parts through a full IIHS test protocol, but that’s sadly beyond the scope (and budget!) of this article.\n",
      "0 : However, [mikeselectricstuff] has happened to lay his hands on both the BMW and aftermarket parts, tearing them all down in his workshop to see what makes them tick.\n",
      "0 : The differences are multitude when laid bare on the bench.\n",
      "1 : The AliExpress part is relatively simple, wired up no differently from a regular headlight.\n",
      "2 : Interestingly, however, the laser high-beam circuit runs all the time in these parts.\n",
      "2 : To prevent blinding other road users, a shutter is kept in place to block the light, which is moved out of the way with a solenoid when the driver turns on the high beam switch.\n",
      "0 : Where the aftermarket part is a little out of left field, the BMW design is another thing entirely.\n",
      "1 : The cutting-edge headlights are hooked up with multiple connectors and over 30 conductors, with much of the driver electronics living in an external controller.\n",
      "1 : Much of this is to drive the various LEDs and stepper motors for slewing the headlights when steering.\n",
      "1 : However, the laser assembly brings its own complexities.\n",
      "6 : Twin light sensors are built inside to monitor the laser beam, and a special metal blocking arm sits directly in front of the diode, presumably to stop the laser light leaving the headlight in the event the phosphor coating burns through.\n",
      "1 : It’s truly wild to get a look inside a modern luxury car’s headlight\n",
      "1 : and see just how far we’ve come from the old days of simple sealed beams.\n",
      "1 : Cost Versus PerformanceDespite the efficiency gains available, the technology remains expensive.\n",
      "1 : Powerful laser diodes don’t come cheap, after all.\n",
      "1 : However, as the technology trickles down to lower-end models, it’s likely that we could see economies of scale change that for the better.\n",
      "3 : Indeed, if national authorities begin to demand higher performance headlights as standard, we could see laser headlights become the norm, rather than an expensive luxury.\n",
      "1 : The technology could naturally be applied to home and commercial lighting, too — though we suspect the potential gains are limited enough that LED lighting will remain the norm for some time to come.\n",
      "3 : The high light output of laser headlights in a compact package allows engineers greater freedom when designing the front-end of a car.\n",
      "2 : As it currently stands, much of the appeal of the new technology is about the packaging benefits, which allow automotive designers greater freedom around the headlight area.\n",
      "1 : Such concerns are less of a factor when it comes to light fittings in the home or office, or indeed, on lower-end automobiles.\n",
      "1 : Regardless, it’s an exciting new application for lasers and one we’ll be sure to see more of in the future.\n",
      "7 :  \t          \t\t\t\t\t  \t\t\t\t  \t\t\t\t\t   \t\t\t\t\t\t\t\t\t  \t\t\t  \t\t\t\t\t  \t\t\t\t  \t\t\t\t\t  \t\t\t\t\t\t\t\t\t  \t\t\t  \t\t\t\t\t  \t\t\t\t  \t\t\t\t\t  \t\t\t\t\t\t\t\t\t  \t\t\t  \t\t\t\t\t          \t\t\t\t\t  \t\t\t\t\t\t\t\t\t  \t\t\t  \t\t\t      Posted in car hacks, Engineering, Featured, Laser Hacks, SliderTagged laser, laser headlight, laser headlights, light  \n"
     ]
    }
   ],
   "source": [
    "interesting_lemmas = set()\n",
    "for lemma, freq in lemma_freq.most_common(5):\n",
    "    interesting_lemmas.add(lemma)\n",
    "\n",
    "sentences = list(doc.sents)\n",
    "for sentence in sentences:\n",
    "    count = 0\n",
    "    for token in sentence:\n",
    "        if token.lemma_.lower() in interesting_lemmas:\n",
    "            count += 1\n",
    "    sent_str = str(sentence).replace('\\n','').replace('  ',' ')\n",
    "    print(count,':', sent_str)"
   ]
  },
  {
   "cell_type": "markdown",
   "metadata": {},
   "source": [
    "Question #6"
   ]
  },
  {
   "cell_type": "code",
   "execution_count": 7,
   "metadata": {
    "scrolled": true
   },
   "outputs": [
    {
     "ename": "TypeError",
     "evalue": "'str' object is not callable",
     "output_type": "error",
     "traceback": [
      "\u001b[1;31m---------------------------------------------------------------------------\u001b[0m",
      "\u001b[1;31mTypeError\u001b[0m                                 Traceback (most recent call last)",
      "Input \u001b[1;32mIn [7]\u001b[0m, in \u001b[0;36m<cell line: 6>\u001b[1;34m()\u001b[0m\n\u001b[0;32m      4\u001b[0m tokens \u001b[38;5;241m=\u001b[39m interesting_tokens\n\u001b[0;32m      5\u001b[0m tokenized_counts \u001b[38;5;241m=\u001b[39m Counter(tokens)\n\u001b[1;32m----> 6\u001b[0m df_tokenized \u001b[38;5;241m=\u001b[39m \u001b[43msent_str\u001b[49m\u001b[43m(\u001b[49m\u001b[43mtokenized_counts\u001b[49m\u001b[43m,\u001b[49m\u001b[43m \u001b[49m\u001b[43morient\u001b[49m\u001b[38;5;241;43m=\u001b[39;49m\u001b[38;5;124;43m\"\u001b[39;49m\u001b[38;5;124;43mindex\u001b[39;49m\u001b[38;5;124;43m\"\u001b[39;49m\u001b[43m)\u001b[49m\u001b[38;5;241m.\u001b[39mreset_index()\n\u001b[0;32m      7\u001b[0m f_tokenized\u001b[38;5;241m.\u001b[39msort_values(by\u001b[38;5;241m=\u001b[39m\u001b[38;5;241m0\u001b[39m, ascending\u001b[38;5;241m=\u001b[39m\u001b[38;5;28;01mFalse\u001b[39;00m, inplace\u001b[38;5;241m=\u001b[39m\u001b[38;5;28;01mTrue\u001b[39;00m)\n\u001b[0;32m      8\u001b[0m df_tokenized\n",
      "\u001b[1;31mTypeError\u001b[0m: 'str' object is not callable"
     ]
    }
   ],
   "source": [
    "for i in interesting_tokens:\n",
    "     if i.__contains__(\"text\"):\n",
    "        content_of_website = df[\"body_text\"].str.split().explode().str.cat(sep=\" \")\n",
    "tokens = interesting_tokens\n",
    "tokenized_counts = Counter(tokens)\n",
    "df_tokenized = sent_str(tokenized_counts, orient=\"index\").reset_index()\n",
    "f_tokenized.sort_values(by=0, ascending=False, inplace=True)\n",
    "df_tokenized\n",
    "df_tokenized.sort_values(by=0, ascending=False, inplace=True)\n",
    "df_tokenized[:30].plot(kind=\"bar\",x=\"index\", orientation=\"vertical\", figsize=(15,10), xlabel=\"Tokens\", ylabel=\"Count\", colormap=\"viridis\", table=False, grid=True, fontsize=15, rot=35, position=1, title=\"Token Counts from a Website Content with Punctiation\", legend=True).legend([\"Tokens\"], loc=\"lower left\", prop={\"size\":15})"
   ]
  },
  {
   "cell_type": "markdown",
   "metadata": {},
   "source": [
    "I've encountered problems when running the code for this question. But by looking at the scores from 5a I would suggest that a score of 1 would be the most common."
   ]
  },
  {
   "cell_type": "markdown",
   "metadata": {},
   "source": [
    "Question #7"
   ]
  },
  {
   "cell_type": "code",
   "execution_count": null,
   "metadata": {},
   "outputs": [],
   "source": [
    "for i in interesting_lemmas:\n",
    "     if i.__contains__(\"text\"):\n",
    "        content_of_website = df[\"body_text\"].str.split().explode().str.cat(sep=\" \")\n",
    "tokens = interesting_lemmas\n",
    "tokenized_counts = Counter(tokens)\n",
    "df_tokenized = sent_str(tokenized_counts, orient=\"index\").reset_index()\n",
    "f_tokenized.sort_values(by=0, ascending=False, inplace=True)\n",
    "df_tokenized\n",
    "df_tokenized.sort_values(by=0, ascending=False, inplace=True)\n",
    "df_tokenized[:30].plot(kind=\"bar\",x=\"index\", orientation=\"vertical\", figsize=(15,10), xlabel=\"Tokens\", ylabel=\"Count\", colormap=\"viridis\", table=False, grid=True, fontsize=15, rot=35, position=1, title=\"Token Counts from a Website Content with Punctiation\", legend=True).legend([\"Tokens\"], loc=\"lower left\", prop={\"size\":15})\n"
   ]
  },
  {
   "cell_type": "markdown",
   "metadata": {},
   "source": [
    "Again I've encountered problems when running the code for this question. But by looking at the scores from 5b I would suggest that a score of 2 would be the most common."
   ]
  },
  {
   "cell_type": "markdown",
   "metadata": {},
   "source": [
    "Question #8"
   ]
  },
  {
   "cell_type": "markdown",
   "metadata": {},
   "source": [
    "All the tokens and lexems would be ommitted becasue they are all nouns. If you would want to only consider nouns as interesting words i would suggest noun_phrases."
   ]
  }
 ],
 "metadata": {
  "kernelspec": {
   "display_name": "Python 3 (ipykernel)",
   "language": "python",
   "name": "python3"
  },
  "language_info": {
   "codemirror_mode": {
    "name": "ipython",
    "version": 3
   },
   "file_extension": ".py",
   "mimetype": "text/x-python",
   "name": "python",
   "nbconvert_exporter": "python",
   "pygments_lexer": "ipython3",
   "version": "3.9.12"
  }
 },
 "nbformat": 4,
 "nbformat_minor": 4
}
